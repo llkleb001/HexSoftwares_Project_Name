{
 "cells": [
  {
   "cell_type": "code",
   "execution_count": 1,
   "id": "bf77cfd1-d76c-4d20-b105-e2b61482d34d",
   "metadata": {},
   "outputs": [],
   "source": [
    "import pandas as pd\n",
    "import numpy as np\n",
    "import seaborn as sns"
   ]
  },
  {
   "cell_type": "code",
   "execution_count": 11,
   "id": "3db090b3-ece7-475c-adf3-e5ea477e8b36",
   "metadata": {},
   "outputs": [],
   "source": [
    "data = pd.read_csv(\"jamb_exam_results.csv\")"
   ]
  },
  {
   "cell_type": "code",
   "execution_count": null,
   "id": "f1e44847-27e9-4b0a-8aab-a1ce03983f7c",
   "metadata": {},
   "outputs": [],
   "source": [
    "# 1. Understanding the data"
   ]
  },
  {
   "cell_type": "code",
   "execution_count": 27,
   "id": "40de71ee-5eff-40ca-8f40-b7f02c8df19b",
   "metadata": {},
   "outputs": [
    {
     "data": {
      "text/html": [
       "<div>\n",
       "<style scoped>\n",
       "    .dataframe tbody tr th:only-of-type {\n",
       "        vertical-align: middle;\n",
       "    }\n",
       "\n",
       "    .dataframe tbody tr th {\n",
       "        vertical-align: top;\n",
       "    }\n",
       "\n",
       "    .dataframe thead th {\n",
       "        text-align: right;\n",
       "    }\n",
       "</style>\n",
       "<table border=\"1\" class=\"dataframe\">\n",
       "  <thead>\n",
       "    <tr style=\"text-align: right;\">\n",
       "      <th></th>\n",
       "      <th>JAMB_Score</th>\n",
       "      <th>Study_Hours_Per_Week</th>\n",
       "      <th>Attendance_Rate</th>\n",
       "      <th>Teacher_Quality</th>\n",
       "      <th>Distance_To_School</th>\n",
       "      <th>School_Type</th>\n",
       "      <th>School_Location</th>\n",
       "      <th>Extra_Tutorials</th>\n",
       "      <th>Access_To_Learning_Materials</th>\n",
       "      <th>Parent_Involvement</th>\n",
       "      <th>IT_Knowledge</th>\n",
       "      <th>Student_ID</th>\n",
       "      <th>Age</th>\n",
       "      <th>Gender</th>\n",
       "      <th>Socioeconomic_Status</th>\n",
       "      <th>Parent_Education_Level</th>\n",
       "      <th>Assignments_Completed</th>\n",
       "    </tr>\n",
       "  </thead>\n",
       "  <tbody>\n",
       "    <tr>\n",
       "      <th>0</th>\n",
       "      <td>192</td>\n",
       "      <td>22</td>\n",
       "      <td>78</td>\n",
       "      <td>4</td>\n",
       "      <td>12.4</td>\n",
       "      <td>Public</td>\n",
       "      <td>Urban</td>\n",
       "      <td>Yes</td>\n",
       "      <td>Yes</td>\n",
       "      <td>High</td>\n",
       "      <td>Medium</td>\n",
       "      <td>1</td>\n",
       "      <td>17</td>\n",
       "      <td>Male</td>\n",
       "      <td>Low</td>\n",
       "      <td>Tertiary</td>\n",
       "      <td>2</td>\n",
       "    </tr>\n",
       "    <tr>\n",
       "      <th>1</th>\n",
       "      <td>207</td>\n",
       "      <td>14</td>\n",
       "      <td>88</td>\n",
       "      <td>4</td>\n",
       "      <td>2.7</td>\n",
       "      <td>Public</td>\n",
       "      <td>Rural</td>\n",
       "      <td>No</td>\n",
       "      <td>Yes</td>\n",
       "      <td>High</td>\n",
       "      <td>High</td>\n",
       "      <td>2</td>\n",
       "      <td>15</td>\n",
       "      <td>Male</td>\n",
       "      <td>High</td>\n",
       "      <td>NaN</td>\n",
       "      <td>1</td>\n",
       "    </tr>\n",
       "    <tr>\n",
       "      <th>2</th>\n",
       "      <td>182</td>\n",
       "      <td>29</td>\n",
       "      <td>87</td>\n",
       "      <td>2</td>\n",
       "      <td>9.6</td>\n",
       "      <td>Public</td>\n",
       "      <td>Rural</td>\n",
       "      <td>Yes</td>\n",
       "      <td>Yes</td>\n",
       "      <td>High</td>\n",
       "      <td>Medium</td>\n",
       "      <td>3</td>\n",
       "      <td>20</td>\n",
       "      <td>Female</td>\n",
       "      <td>High</td>\n",
       "      <td>Tertiary</td>\n",
       "      <td>2</td>\n",
       "    </tr>\n",
       "    <tr>\n",
       "      <th>3</th>\n",
       "      <td>210</td>\n",
       "      <td>29</td>\n",
       "      <td>99</td>\n",
       "      <td>2</td>\n",
       "      <td>2.6</td>\n",
       "      <td>Public</td>\n",
       "      <td>Urban</td>\n",
       "      <td>No</td>\n",
       "      <td>Yes</td>\n",
       "      <td>Medium</td>\n",
       "      <td>High</td>\n",
       "      <td>4</td>\n",
       "      <td>22</td>\n",
       "      <td>Female</td>\n",
       "      <td>Medium</td>\n",
       "      <td>Tertiary</td>\n",
       "      <td>1</td>\n",
       "    </tr>\n",
       "    <tr>\n",
       "      <th>4</th>\n",
       "      <td>199</td>\n",
       "      <td>12</td>\n",
       "      <td>98</td>\n",
       "      <td>3</td>\n",
       "      <td>8.8</td>\n",
       "      <td>Public</td>\n",
       "      <td>Urban</td>\n",
       "      <td>No</td>\n",
       "      <td>Yes</td>\n",
       "      <td>Medium</td>\n",
       "      <td>Medium</td>\n",
       "      <td>5</td>\n",
       "      <td>22</td>\n",
       "      <td>Female</td>\n",
       "      <td>Medium</td>\n",
       "      <td>Tertiary</td>\n",
       "      <td>1</td>\n",
       "    </tr>\n",
       "  </tbody>\n",
       "</table>\n",
       "</div>"
      ],
      "text/plain": [
       "   JAMB_Score  Study_Hours_Per_Week  Attendance_Rate  Teacher_Quality  \\\n",
       "0         192                    22               78                4   \n",
       "1         207                    14               88                4   \n",
       "2         182                    29               87                2   \n",
       "3         210                    29               99                2   \n",
       "4         199                    12               98                3   \n",
       "\n",
       "   Distance_To_School School_Type School_Location Extra_Tutorials  \\\n",
       "0                12.4      Public           Urban             Yes   \n",
       "1                 2.7      Public           Rural              No   \n",
       "2                 9.6      Public           Rural             Yes   \n",
       "3                 2.6      Public           Urban              No   \n",
       "4                 8.8      Public           Urban              No   \n",
       "\n",
       "  Access_To_Learning_Materials Parent_Involvement IT_Knowledge  Student_ID  \\\n",
       "0                          Yes               High       Medium           1   \n",
       "1                          Yes               High         High           2   \n",
       "2                          Yes               High       Medium           3   \n",
       "3                          Yes             Medium         High           4   \n",
       "4                          Yes             Medium       Medium           5   \n",
       "\n",
       "   Age  Gender Socioeconomic_Status Parent_Education_Level  \\\n",
       "0   17    Male                  Low               Tertiary   \n",
       "1   15    Male                 High                    NaN   \n",
       "2   20  Female                 High               Tertiary   \n",
       "3   22  Female               Medium               Tertiary   \n",
       "4   22  Female               Medium               Tertiary   \n",
       "\n",
       "   Assignments_Completed  \n",
       "0                      2  \n",
       "1                      1  \n",
       "2                      2  \n",
       "3                      1  \n",
       "4                      1  "
      ]
     },
     "execution_count": 27,
     "metadata": {},
     "output_type": "execute_result"
    }
   ],
   "source": [
    "data.head()"
   ]
  },
  {
   "cell_type": "code",
   "execution_count": 4,
   "id": "e10cca5c-2952-497e-b6a8-a31ab4449a03",
   "metadata": {},
   "outputs": [
    {
     "data": {
      "text/html": [
       "<div>\n",
       "<style scoped>\n",
       "    .dataframe tbody tr th:only-of-type {\n",
       "        vertical-align: middle;\n",
       "    }\n",
       "\n",
       "    .dataframe tbody tr th {\n",
       "        vertical-align: top;\n",
       "    }\n",
       "\n",
       "    .dataframe thead th {\n",
       "        text-align: right;\n",
       "    }\n",
       "</style>\n",
       "<table border=\"1\" class=\"dataframe\">\n",
       "  <thead>\n",
       "    <tr style=\"text-align: right;\">\n",
       "      <th></th>\n",
       "      <th>JAMB_Score</th>\n",
       "      <th>Study_Hours_Per_Week</th>\n",
       "      <th>Attendance_Rate</th>\n",
       "      <th>Teacher_Quality</th>\n",
       "      <th>Distance_To_School</th>\n",
       "      <th>School_Type</th>\n",
       "      <th>School_Location</th>\n",
       "      <th>Extra_Tutorials</th>\n",
       "      <th>Access_To_Learning_Materials</th>\n",
       "      <th>Parent_Involvement</th>\n",
       "      <th>IT_Knowledge</th>\n",
       "      <th>Student_ID</th>\n",
       "      <th>Age</th>\n",
       "      <th>Gender</th>\n",
       "      <th>Socioeconomic_Status</th>\n",
       "      <th>Parent_Education_Level</th>\n",
       "      <th>Assignments_Completed</th>\n",
       "    </tr>\n",
       "  </thead>\n",
       "  <tbody>\n",
       "    <tr>\n",
       "      <th>4995</th>\n",
       "      <td>183</td>\n",
       "      <td>20</td>\n",
       "      <td>74</td>\n",
       "      <td>2</td>\n",
       "      <td>10.6</td>\n",
       "      <td>Public</td>\n",
       "      <td>Urban</td>\n",
       "      <td>Yes</td>\n",
       "      <td>No</td>\n",
       "      <td>Low</td>\n",
       "      <td>Low</td>\n",
       "      <td>4996</td>\n",
       "      <td>16</td>\n",
       "      <td>Male</td>\n",
       "      <td>Medium</td>\n",
       "      <td>Primary</td>\n",
       "      <td>2</td>\n",
       "    </tr>\n",
       "    <tr>\n",
       "      <th>4996</th>\n",
       "      <td>179</td>\n",
       "      <td>0</td>\n",
       "      <td>80</td>\n",
       "      <td>2</td>\n",
       "      <td>20.0</td>\n",
       "      <td>Public</td>\n",
       "      <td>Rural</td>\n",
       "      <td>No</td>\n",
       "      <td>Yes</td>\n",
       "      <td>Medium</td>\n",
       "      <td>Medium</td>\n",
       "      <td>4997</td>\n",
       "      <td>22</td>\n",
       "      <td>Male</td>\n",
       "      <td>Low</td>\n",
       "      <td>Secondary</td>\n",
       "      <td>1</td>\n",
       "    </tr>\n",
       "    <tr>\n",
       "      <th>4997</th>\n",
       "      <td>261</td>\n",
       "      <td>17</td>\n",
       "      <td>89</td>\n",
       "      <td>3</td>\n",
       "      <td>11.3</td>\n",
       "      <td>Public</td>\n",
       "      <td>Urban</td>\n",
       "      <td>No</td>\n",
       "      <td>No</td>\n",
       "      <td>Low</td>\n",
       "      <td>High</td>\n",
       "      <td>4998</td>\n",
       "      <td>18</td>\n",
       "      <td>Male</td>\n",
       "      <td>Medium</td>\n",
       "      <td>Primary</td>\n",
       "      <td>3</td>\n",
       "    </tr>\n",
       "    <tr>\n",
       "      <th>4998</th>\n",
       "      <td>183</td>\n",
       "      <td>15</td>\n",
       "      <td>96</td>\n",
       "      <td>2</td>\n",
       "      <td>15.9</td>\n",
       "      <td>Public</td>\n",
       "      <td>Rural</td>\n",
       "      <td>No</td>\n",
       "      <td>No</td>\n",
       "      <td>Low</td>\n",
       "      <td>Medium</td>\n",
       "      <td>4999</td>\n",
       "      <td>18</td>\n",
       "      <td>Male</td>\n",
       "      <td>Medium</td>\n",
       "      <td>Secondary</td>\n",
       "      <td>1</td>\n",
       "    </tr>\n",
       "    <tr>\n",
       "      <th>4999</th>\n",
       "      <td>218</td>\n",
       "      <td>34</td>\n",
       "      <td>100</td>\n",
       "      <td>1</td>\n",
       "      <td>7.0</td>\n",
       "      <td>Public</td>\n",
       "      <td>Urban</td>\n",
       "      <td>Yes</td>\n",
       "      <td>Yes</td>\n",
       "      <td>Medium</td>\n",
       "      <td>Medium</td>\n",
       "      <td>5000</td>\n",
       "      <td>16</td>\n",
       "      <td>Female</td>\n",
       "      <td>High</td>\n",
       "      <td>NaN</td>\n",
       "      <td>2</td>\n",
       "    </tr>\n",
       "  </tbody>\n",
       "</table>\n",
       "</div>"
      ],
      "text/plain": [
       "      JAMB_Score  Study_Hours_Per_Week  Attendance_Rate  Teacher_Quality  \\\n",
       "4995         183                    20               74                2   \n",
       "4996         179                     0               80                2   \n",
       "4997         261                    17               89                3   \n",
       "4998         183                    15               96                2   \n",
       "4999         218                    34              100                1   \n",
       "\n",
       "      Distance_To_School School_Type School_Location Extra_Tutorials  \\\n",
       "4995                10.6      Public           Urban             Yes   \n",
       "4996                20.0      Public           Rural              No   \n",
       "4997                11.3      Public           Urban              No   \n",
       "4998                15.9      Public           Rural              No   \n",
       "4999                 7.0      Public           Urban             Yes   \n",
       "\n",
       "     Access_To_Learning_Materials Parent_Involvement IT_Knowledge  Student_ID  \\\n",
       "4995                           No                Low          Low        4996   \n",
       "4996                          Yes             Medium       Medium        4997   \n",
       "4997                           No                Low         High        4998   \n",
       "4998                           No                Low       Medium        4999   \n",
       "4999                          Yes             Medium       Medium        5000   \n",
       "\n",
       "      Age  Gender Socioeconomic_Status Parent_Education_Level  \\\n",
       "4995   16    Male               Medium                Primary   \n",
       "4996   22    Male                  Low              Secondary   \n",
       "4997   18    Male               Medium                Primary   \n",
       "4998   18    Male               Medium              Secondary   \n",
       "4999   16  Female                 High                    NaN   \n",
       "\n",
       "      Assignments_Completed  \n",
       "4995                      2  \n",
       "4996                      1  \n",
       "4997                      3  \n",
       "4998                      1  \n",
       "4999                      2  "
      ]
     },
     "execution_count": 4,
     "metadata": {},
     "output_type": "execute_result"
    }
   ],
   "source": [
    "data.tail()"
   ]
  },
  {
   "cell_type": "code",
   "execution_count": 5,
   "id": "da5cfaa7-1853-4cbe-8fdf-0a9fab5ff607",
   "metadata": {},
   "outputs": [
    {
     "data": {
      "text/plain": [
       "(5000, 17)"
      ]
     },
     "execution_count": 5,
     "metadata": {},
     "output_type": "execute_result"
    }
   ],
   "source": [
    "data.shape"
   ]
  },
  {
   "cell_type": "code",
   "execution_count": 6,
   "id": "61839431-91ab-49ac-8721-a0c70ff36702",
   "metadata": {},
   "outputs": [
    {
     "data": {
      "text/html": [
       "<div>\n",
       "<style scoped>\n",
       "    .dataframe tbody tr th:only-of-type {\n",
       "        vertical-align: middle;\n",
       "    }\n",
       "\n",
       "    .dataframe tbody tr th {\n",
       "        vertical-align: top;\n",
       "    }\n",
       "\n",
       "    .dataframe thead th {\n",
       "        text-align: right;\n",
       "    }\n",
       "</style>\n",
       "<table border=\"1\" class=\"dataframe\">\n",
       "  <thead>\n",
       "    <tr style=\"text-align: right;\">\n",
       "      <th></th>\n",
       "      <th>JAMB_Score</th>\n",
       "      <th>Study_Hours_Per_Week</th>\n",
       "      <th>Attendance_Rate</th>\n",
       "      <th>Teacher_Quality</th>\n",
       "      <th>Distance_To_School</th>\n",
       "      <th>Student_ID</th>\n",
       "      <th>Age</th>\n",
       "      <th>Assignments_Completed</th>\n",
       "    </tr>\n",
       "  </thead>\n",
       "  <tbody>\n",
       "    <tr>\n",
       "      <th>count</th>\n",
       "      <td>5000.000000</td>\n",
       "      <td>5000.000000</td>\n",
       "      <td>5000.000000</td>\n",
       "      <td>5000.000000</td>\n",
       "      <td>5000.000000</td>\n",
       "      <td>5000.000000</td>\n",
       "      <td>5000.000000</td>\n",
       "      <td>5000.000000</td>\n",
       "    </tr>\n",
       "    <tr>\n",
       "      <th>mean</th>\n",
       "      <td>174.074600</td>\n",
       "      <td>19.521200</td>\n",
       "      <td>84.235200</td>\n",
       "      <td>2.521400</td>\n",
       "      <td>10.005460</td>\n",
       "      <td>2500.500000</td>\n",
       "      <td>18.445800</td>\n",
       "      <td>1.804600</td>\n",
       "    </tr>\n",
       "    <tr>\n",
       "      <th>std</th>\n",
       "      <td>47.616477</td>\n",
       "      <td>9.634569</td>\n",
       "      <td>9.485688</td>\n",
       "      <td>0.985564</td>\n",
       "      <td>4.820221</td>\n",
       "      <td>1443.520003</td>\n",
       "      <td>2.301504</td>\n",
       "      <td>0.992076</td>\n",
       "    </tr>\n",
       "    <tr>\n",
       "      <th>min</th>\n",
       "      <td>100.000000</td>\n",
       "      <td>0.000000</td>\n",
       "      <td>50.000000</td>\n",
       "      <td>1.000000</td>\n",
       "      <td>0.000000</td>\n",
       "      <td>1.000000</td>\n",
       "      <td>15.000000</td>\n",
       "      <td>1.000000</td>\n",
       "    </tr>\n",
       "    <tr>\n",
       "      <th>25%</th>\n",
       "      <td>135.000000</td>\n",
       "      <td>13.000000</td>\n",
       "      <td>78.000000</td>\n",
       "      <td>2.000000</td>\n",
       "      <td>6.600000</td>\n",
       "      <td>1250.750000</td>\n",
       "      <td>16.000000</td>\n",
       "      <td>1.000000</td>\n",
       "    </tr>\n",
       "    <tr>\n",
       "      <th>50%</th>\n",
       "      <td>170.000000</td>\n",
       "      <td>19.000000</td>\n",
       "      <td>84.000000</td>\n",
       "      <td>2.000000</td>\n",
       "      <td>10.000000</td>\n",
       "      <td>2500.500000</td>\n",
       "      <td>18.000000</td>\n",
       "      <td>1.000000</td>\n",
       "    </tr>\n",
       "    <tr>\n",
       "      <th>75%</th>\n",
       "      <td>209.000000</td>\n",
       "      <td>26.000000</td>\n",
       "      <td>91.000000</td>\n",
       "      <td>3.000000</td>\n",
       "      <td>13.400000</td>\n",
       "      <td>3750.250000</td>\n",
       "      <td>20.000000</td>\n",
       "      <td>2.000000</td>\n",
       "    </tr>\n",
       "    <tr>\n",
       "      <th>max</th>\n",
       "      <td>367.000000</td>\n",
       "      <td>40.000000</td>\n",
       "      <td>100.000000</td>\n",
       "      <td>5.000000</td>\n",
       "      <td>20.000000</td>\n",
       "      <td>5000.000000</td>\n",
       "      <td>22.000000</td>\n",
       "      <td>5.000000</td>\n",
       "    </tr>\n",
       "  </tbody>\n",
       "</table>\n",
       "</div>"
      ],
      "text/plain": [
       "        JAMB_Score  Study_Hours_Per_Week  Attendance_Rate  Teacher_Quality  \\\n",
       "count  5000.000000           5000.000000      5000.000000      5000.000000   \n",
       "mean    174.074600             19.521200        84.235200         2.521400   \n",
       "std      47.616477              9.634569         9.485688         0.985564   \n",
       "min     100.000000              0.000000        50.000000         1.000000   \n",
       "25%     135.000000             13.000000        78.000000         2.000000   \n",
       "50%     170.000000             19.000000        84.000000         2.000000   \n",
       "75%     209.000000             26.000000        91.000000         3.000000   \n",
       "max     367.000000             40.000000       100.000000         5.000000   \n",
       "\n",
       "       Distance_To_School   Student_ID          Age  Assignments_Completed  \n",
       "count         5000.000000  5000.000000  5000.000000            5000.000000  \n",
       "mean            10.005460  2500.500000    18.445800               1.804600  \n",
       "std              4.820221  1443.520003     2.301504               0.992076  \n",
       "min              0.000000     1.000000    15.000000               1.000000  \n",
       "25%              6.600000  1250.750000    16.000000               1.000000  \n",
       "50%             10.000000  2500.500000    18.000000               1.000000  \n",
       "75%             13.400000  3750.250000    20.000000               2.000000  \n",
       "max             20.000000  5000.000000    22.000000               5.000000  "
      ]
     },
     "execution_count": 6,
     "metadata": {},
     "output_type": "execute_result"
    }
   ],
   "source": [
    "data.describe()"
   ]
  },
  {
   "cell_type": "code",
   "execution_count": 7,
   "id": "76d2c718-c3f9-4c78-a619-2e60b4e7fddf",
   "metadata": {},
   "outputs": [
    {
     "data": {
      "text/plain": [
       "Index(['JAMB_Score', 'Study_Hours_Per_Week', 'Attendance_Rate',\n",
       "       'Teacher_Quality', 'Distance_To_School', 'School_Type',\n",
       "       'School_Location', 'Extra_Tutorials', 'Access_To_Learning_Materials',\n",
       "       'Parent_Involvement', 'IT_Knowledge', 'Student_ID', 'Age', 'Gender',\n",
       "       'Socioeconomic_Status', 'Parent_Education_Level',\n",
       "       'Assignments_Completed'],\n",
       "      dtype='object')"
      ]
     },
     "execution_count": 7,
     "metadata": {},
     "output_type": "execute_result"
    }
   ],
   "source": [
    "data.columns"
   ]
  },
  {
   "cell_type": "code",
   "execution_count": 8,
   "id": "6ca1bb7e-473d-4d2b-b4e2-b4cf9b4f3363",
   "metadata": {},
   "outputs": [
    {
     "data": {
      "text/plain": [
       "<bound method DataFrame.nunique of       JAMB_Score  Study_Hours_Per_Week  Attendance_Rate  Teacher_Quality  \\\n",
       "0            192                    22               78                4   \n",
       "1            207                    14               88                4   \n",
       "2            182                    29               87                2   \n",
       "3            210                    29               99                2   \n",
       "4            199                    12               98                3   \n",
       "...          ...                   ...              ...              ...   \n",
       "4995         183                    20               74                2   \n",
       "4996         179                     0               80                2   \n",
       "4997         261                    17               89                3   \n",
       "4998         183                    15               96                2   \n",
       "4999         218                    34              100                1   \n",
       "\n",
       "      Distance_To_School School_Type School_Location Extra_Tutorials  \\\n",
       "0                   12.4      Public           Urban             Yes   \n",
       "1                    2.7      Public           Rural              No   \n",
       "2                    9.6      Public           Rural             Yes   \n",
       "3                    2.6      Public           Urban              No   \n",
       "4                    8.8      Public           Urban              No   \n",
       "...                  ...         ...             ...             ...   \n",
       "4995                10.6      Public           Urban             Yes   \n",
       "4996                20.0      Public           Rural              No   \n",
       "4997                11.3      Public           Urban              No   \n",
       "4998                15.9      Public           Rural              No   \n",
       "4999                 7.0      Public           Urban             Yes   \n",
       "\n",
       "     Access_To_Learning_Materials Parent_Involvement IT_Knowledge  Student_ID  \\\n",
       "0                             Yes               High       Medium           1   \n",
       "1                             Yes               High         High           2   \n",
       "2                             Yes               High       Medium           3   \n",
       "3                             Yes             Medium         High           4   \n",
       "4                             Yes             Medium       Medium           5   \n",
       "...                           ...                ...          ...         ...   \n",
       "4995                           No                Low          Low        4996   \n",
       "4996                          Yes             Medium       Medium        4997   \n",
       "4997                           No                Low         High        4998   \n",
       "4998                           No                Low       Medium        4999   \n",
       "4999                          Yes             Medium       Medium        5000   \n",
       "\n",
       "      Age  Gender Socioeconomic_Status Parent_Education_Level  \\\n",
       "0      17    Male                  Low               Tertiary   \n",
       "1      15    Male                 High                    NaN   \n",
       "2      20  Female                 High               Tertiary   \n",
       "3      22  Female               Medium               Tertiary   \n",
       "4      22  Female               Medium               Tertiary   \n",
       "...   ...     ...                  ...                    ...   \n",
       "4995   16    Male               Medium                Primary   \n",
       "4996   22    Male                  Low              Secondary   \n",
       "4997   18    Male               Medium                Primary   \n",
       "4998   18    Male               Medium              Secondary   \n",
       "4999   16  Female                 High                    NaN   \n",
       "\n",
       "      Assignments_Completed  \n",
       "0                         2  \n",
       "1                         1  \n",
       "2                         2  \n",
       "3                         1  \n",
       "4                         1  \n",
       "...                     ...  \n",
       "4995                      2  \n",
       "4996                      1  \n",
       "4997                      3  \n",
       "4998                      1  \n",
       "4999                      2  \n",
       "\n",
       "[5000 rows x 17 columns]>"
      ]
     },
     "execution_count": 8,
     "metadata": {},
     "output_type": "execute_result"
    }
   ],
   "source": [
    "data.nunique"
   ]
  },
  {
   "cell_type": "code",
   "execution_count": null,
   "id": "8f3e5a3d-3dfb-4342-bc36-9a65c2b24087",
   "metadata": {},
   "outputs": [],
   "source": [
    "# 2 Cleaning the data"
   ]
  },
  {
   "cell_type": "code",
   "execution_count": 9,
   "id": "6b304305-24bb-44f4-a1eb-35135a69b157",
   "metadata": {},
   "outputs": [
    {
     "data": {
      "text/plain": [
       "<bound method DataFrame.sum of       JAMB_Score  Study_Hours_Per_Week  Attendance_Rate  Teacher_Quality  \\\n",
       "0          False                 False            False            False   \n",
       "1          False                 False            False            False   \n",
       "2          False                 False            False            False   \n",
       "3          False                 False            False            False   \n",
       "4          False                 False            False            False   \n",
       "...          ...                   ...              ...              ...   \n",
       "4995       False                 False            False            False   \n",
       "4996       False                 False            False            False   \n",
       "4997       False                 False            False            False   \n",
       "4998       False                 False            False            False   \n",
       "4999       False                 False            False            False   \n",
       "\n",
       "      Distance_To_School  School_Type  School_Location  Extra_Tutorials  \\\n",
       "0                  False        False            False            False   \n",
       "1                  False        False            False            False   \n",
       "2                  False        False            False            False   \n",
       "3                  False        False            False            False   \n",
       "4                  False        False            False            False   \n",
       "...                  ...          ...              ...              ...   \n",
       "4995               False        False            False            False   \n",
       "4996               False        False            False            False   \n",
       "4997               False        False            False            False   \n",
       "4998               False        False            False            False   \n",
       "4999               False        False            False            False   \n",
       "\n",
       "      Access_To_Learning_Materials  Parent_Involvement  IT_Knowledge  \\\n",
       "0                            False               False         False   \n",
       "1                            False               False         False   \n",
       "2                            False               False         False   \n",
       "3                            False               False         False   \n",
       "4                            False               False         False   \n",
       "...                            ...                 ...           ...   \n",
       "4995                         False               False         False   \n",
       "4996                         False               False         False   \n",
       "4997                         False               False         False   \n",
       "4998                         False               False         False   \n",
       "4999                         False               False         False   \n",
       "\n",
       "      Student_ID    Age  Gender  Socioeconomic_Status  Parent_Education_Level  \\\n",
       "0          False  False   False                 False                   False   \n",
       "1          False  False   False                 False                    True   \n",
       "2          False  False   False                 False                   False   \n",
       "3          False  False   False                 False                   False   \n",
       "4          False  False   False                 False                   False   \n",
       "...          ...    ...     ...                   ...                     ...   \n",
       "4995       False  False   False                 False                   False   \n",
       "4996       False  False   False                 False                   False   \n",
       "4997       False  False   False                 False                   False   \n",
       "4998       False  False   False                 False                   False   \n",
       "4999       False  False   False                 False                    True   \n",
       "\n",
       "      Assignments_Completed  \n",
       "0                     False  \n",
       "1                     False  \n",
       "2                     False  \n",
       "3                     False  \n",
       "4                     False  \n",
       "...                     ...  \n",
       "4995                  False  \n",
       "4996                  False  \n",
       "4997                  False  \n",
       "4998                  False  \n",
       "4999                  False  \n",
       "\n",
       "[5000 rows x 17 columns]>"
      ]
     },
     "execution_count": 9,
     "metadata": {},
     "output_type": "execute_result"
    }
   ],
   "source": [
    "data.isnull().sum"
   ]
  },
  {
   "cell_type": "code",
   "execution_count": 11,
   "id": "bc93d07e-fefd-4687-90b8-4989be26fde1",
   "metadata": {},
   "outputs": [
    {
     "name": "stdout",
     "output_type": "stream",
     "text": [
      "<class 'pandas.core.frame.DataFrame'>\n",
      "RangeIndex: 5000 entries, 0 to 4999\n",
      "Data columns (total 17 columns):\n",
      " #   Column                        Non-Null Count  Dtype  \n",
      "---  ------                        --------------  -----  \n",
      " 0   JAMB_Score                    5000 non-null   int64  \n",
      " 1   Study_Hours_Per_Week          5000 non-null   int64  \n",
      " 2   Attendance_Rate               5000 non-null   int64  \n",
      " 3   Teacher_Quality               5000 non-null   int64  \n",
      " 4   Distance_To_School            5000 non-null   float64\n",
      " 5   School_Type                   5000 non-null   object \n",
      " 6   School_Location               5000 non-null   object \n",
      " 7   Extra_Tutorials               5000 non-null   object \n",
      " 8   Access_To_Learning_Materials  5000 non-null   object \n",
      " 9   Parent_Involvement            5000 non-null   object \n",
      " 10  IT_Knowledge                  5000 non-null   object \n",
      " 11  Student_ID                    5000 non-null   int64  \n",
      " 12  Age                           5000 non-null   int64  \n",
      " 13  Gender                        5000 non-null   object \n",
      " 14  Socioeconomic_Status          5000 non-null   object \n",
      " 15  Parent_Education_Level        4109 non-null   object \n",
      " 16  Assignments_Completed         5000 non-null   int64  \n",
      "dtypes: float64(1), int64(7), object(9)\n",
      "memory usage: 488.4+ KB\n"
     ]
    }
   ],
   "source": [
    "data.info()"
   ]
  },
  {
   "cell_type": "code",
   "execution_count": 12,
   "id": "865c1cc3-1d12-4c6c-baed-9681441b08f8",
   "metadata": {},
   "outputs": [],
   "source": [
    "data.dropna(inplace = True)"
   ]
  },
  {
   "cell_type": "code",
   "execution_count": 13,
   "id": "aa93482e-6444-4d85-9152-71ac79d19105",
   "metadata": {},
   "outputs": [
    {
     "data": {
      "text/plain": [
       "Index(['JAMB_Score', 'Study_Hours_Per_Week', 'Attendance_Rate',\n",
       "       'Teacher_Quality', 'Distance_To_School', 'School_Type',\n",
       "       'School_Location', 'Extra_Tutorials', 'Access_To_Learning_Materials',\n",
       "       'Parent_Involvement', 'IT_Knowledge', 'Student_ID', 'Age', 'Gender',\n",
       "       'Socioeconomic_Status', 'Parent_Education_Level',\n",
       "       'Assignments_Completed'],\n",
       "      dtype='object')"
      ]
     },
     "execution_count": 13,
     "metadata": {},
     "output_type": "execute_result"
    }
   ],
   "source": [
    "data.columns"
   ]
  },
  {
   "cell_type": "code",
   "execution_count": null,
   "id": "30cc9852-7898-444e-b10b-8d8df6c45f82",
   "metadata": {},
   "outputs": [],
   "source": [
    "# Relationship Analysis "
   ]
  },
  {
   "cell_type": "code",
   "execution_count": 15,
   "id": "06e1bad3-ec59-4246-bba2-33d766b48a0e",
   "metadata": {},
   "outputs": [
    {
     "data": {
      "text/plain": [
       "(<function seaborn.axisgrid.pairplot(data, *, hue=None, hue_order=None, palette=None, vars=None, x_vars=None, y_vars=None, kind='scatter', diag_kind='auto', markers=None, height=2.5, aspect=1, corner=False, dropna=False, plot_kws=None, diag_kws=None, grid_kws=None, size=None)>,\n",
       "       JAMB_Score  Study_Hours_Per_Week  Attendance_Rate  Teacher_Quality  \\\n",
       " 0            192                    22               78                4   \n",
       " 2            182                    29               87                2   \n",
       " 3            210                    29               99                2   \n",
       " 4            199                    12               98                3   \n",
       " 5            202                    25               85                2   \n",
       " ...          ...                   ...              ...              ...   \n",
       " 4994         233                    19               81                3   \n",
       " 4995         183                    20               74                2   \n",
       " 4996         179                     0               80                2   \n",
       " 4997         261                    17               89                3   \n",
       " 4998         183                    15               96                2   \n",
       " \n",
       "       Distance_To_School School_Type School_Location Extra_Tutorials  \\\n",
       " 0                   12.4      Public           Urban             Yes   \n",
       " 2                    9.6      Public           Rural             Yes   \n",
       " 3                    2.6      Public           Urban              No   \n",
       " 4                    8.8      Public           Urban              No   \n",
       " 5                   13.6      Public           Urban             Yes   \n",
       " ...                  ...         ...             ...             ...   \n",
       " 4994                 7.8      Public           Urban             Yes   \n",
       " 4995                10.6      Public           Urban             Yes   \n",
       " 4996                20.0      Public           Rural              No   \n",
       " 4997                11.3      Public           Urban              No   \n",
       " 4998                15.9      Public           Rural              No   \n",
       " \n",
       "      Access_To_Learning_Materials Parent_Involvement IT_Knowledge  Student_ID  \\\n",
       " 0                             Yes               High       Medium           1   \n",
       " 2                             Yes               High       Medium           3   \n",
       " 3                             Yes             Medium         High           4   \n",
       " 4                             Yes             Medium       Medium           5   \n",
       " 5                              No             Medium          Low           6   \n",
       " ...                           ...                ...          ...         ...   \n",
       " 4994                           No                Low          Low        4995   \n",
       " 4995                           No                Low          Low        4996   \n",
       " 4996                          Yes             Medium       Medium        4997   \n",
       " 4997                           No                Low         High        4998   \n",
       " 4998                           No                Low       Medium        4999   \n",
       " \n",
       "       Age  Gender Socioeconomic_Status Parent_Education_Level  \\\n",
       " 0      17    Male                  Low               Tertiary   \n",
       " 2      20  Female                 High               Tertiary   \n",
       " 3      22  Female               Medium               Tertiary   \n",
       " 4      22  Female               Medium               Tertiary   \n",
       " 5      15    Male                  Low               Tertiary   \n",
       " ...   ...     ...                  ...                    ...   \n",
       " 4994   22    Male               Medium              Secondary   \n",
       " 4995   16    Male               Medium                Primary   \n",
       " 4996   22    Male                  Low              Secondary   \n",
       " 4997   18    Male               Medium                Primary   \n",
       " 4998   18    Male               Medium              Secondary   \n",
       " \n",
       "       Assignments_Completed  \n",
       " 0                         2  \n",
       " 2                         2  \n",
       " 3                         1  \n",
       " 4                         1  \n",
       " 5                         1  \n",
       " ...                     ...  \n",
       " 4994                      1  \n",
       " 4995                      2  \n",
       " 4996                      1  \n",
       " 4997                      3  \n",
       " 4998                      1  \n",
       " \n",
       " [4109 rows x 17 columns])"
      ]
     },
     "execution_count": 15,
     "metadata": {},
     "output_type": "execute_result"
    }
   ],
   "source": [
    "sns.pairplot,(data)"
   ]
  },
  {
   "cell_type": "code",
   "execution_count": 10,
   "id": "c194380a-2dbb-4ec1-8700-476d3bd86275",
   "metadata": {},
   "outputs": [],
   "source": [
    "import matplotlib.pyplot as plt\n",
    "data = pd.read_csv(\"jamb_exam_results\")"
   ]
  },
  {
   "cell_type": "code",
   "execution_count": 22,
   "id": "866d86bc-d81b-45cd-9be2-460799747e5e",
   "metadata": {},
   "outputs": [
    {
     "data": {
      "text/plain": [
       "<matplotlib.collections.PathCollection at 0xa4dcaed0>"
      ]
     },
     "execution_count": 22,
     "metadata": {},
     "output_type": "execute_result"
    }
   ],
   "source": [
    "plt.scatter(data['Study_Hours_Per_Week'],data['Attendance_Rate'])"
   ]
  },
  {
   "cell_type": "code",
   "execution_count": 23,
   "id": "6c3ff811-5612-464d-a0cc-8f10d736e68b",
   "metadata": {},
   "outputs": [
    {
     "data": {
      "text/plain": [
       "Text(0.5, 1.0, 'Scatterplot')"
      ]
     },
     "execution_count": 23,
     "metadata": {},
     "output_type": "execute_result"
    }
   ],
   "source": [
    "plt.title(\"Scatterplot\")"
   ]
  },
  {
   "cell_type": "code",
   "execution_count": 24,
   "id": "88e96af7-a858-41d7-a919-f14444e4c866",
   "metadata": {},
   "outputs": [],
   "source": [
    "plt.show()"
   ]
  },
  {
   "cell_type": "code",
   "execution_count": 25,
   "id": "4c3dce36-2b9f-442a-ad11-16aa79048dcf",
   "metadata": {},
   "outputs": [
    {
     "data": {
      "text/plain": [
       "<BarContainer object of 5000 artists>"
      ]
     },
     "execution_count": 25,
     "metadata": {},
     "output_type": "execute_result"
    }
   ],
   "source": [
    "plt.bar(data['Teacher_Quality'],data['Distance_To_School'])"
   ]
  },
  {
   "cell_type": "code",
   "execution_count": 26,
   "id": "7daad624-d3ca-40a2-be94-dec138f6e24c",
   "metadata": {},
   "outputs": [
    {
     "data": {
      "text/plain": [
       "Text(0.5, 1.0, 'Bar Chart')"
      ]
     },
     "execution_count": 26,
     "metadata": {},
     "output_type": "execute_result"
    }
   ],
   "source": [
    "plt.title(\"Bar Chart\")"
   ]
  },
  {
   "cell_type": "code",
   "execution_count": 28,
   "id": "8db0e386-d352-48be-83ea-116bfc4b7949",
   "metadata": {},
   "outputs": [
    {
     "data": {
      "text/plain": [
       "Text(0, 0.5, 'Distance_To_School')"
      ]
     },
     "execution_count": 28,
     "metadata": {},
     "output_type": "execute_result"
    }
   ],
   "source": [
    "plt.xlabel('Teacher_Quality')\n",
    "plt.ylabel('Distance_To_School')"
   ]
  },
  {
   "cell_type": "code",
   "execution_count": 29,
   "id": "af2fb28e-c9ff-4e76-9ec0-f043f2281ee7",
   "metadata": {},
   "outputs": [],
   "source": [
    "plt.show()"
   ]
  },
  {
   "cell_type": "code",
   "execution_count": 32,
   "id": "78c23757-ff74-4385-85bc-f8408ab65389",
   "metadata": {},
   "outputs": [
    {
     "data": {
      "text/plain": [
       "(array([2534.,    0., 1353.,    0.,    0.,  735.,    0.,  312.,    0.,\n",
       "          66.]),\n",
       " array([1. , 1.4, 1.8, 2.2, 2.6, 3. , 3.4, 3.8, 4.2, 4.6, 5. ]),\n",
       " <BarContainer object of 10 artists>)"
      ]
     },
     "execution_count": 32,
     "metadata": {},
     "output_type": "execute_result"
    }
   ],
   "source": [
    "plt.hist(data['Assignments_Completed'])"
   ]
  },
  {
   "cell_type": "code",
   "execution_count": 33,
   "id": "4de186c9-3339-44b2-9957-ea96bf08131f",
   "metadata": {},
   "outputs": [],
   "source": [
    "plt.show()"
   ]
  },
  {
   "cell_type": "code",
   "execution_count": null,
   "id": "9e815f00-7b2a-409b-a7bd-16139dc3c7c3",
   "metadata": {},
   "outputs": [],
   "source": []
  }
 ],
 "metadata": {
  "kernelspec": {
   "display_name": "Python 3 (ipykernel)",
   "language": "python",
   "name": "python3"
  },
  "language_info": {
   "codemirror_mode": {
    "name": "ipython",
    "version": 3
   },
   "file_extension": ".py",
   "mimetype": "text/x-python",
   "name": "python",
   "nbconvert_exporter": "python",
   "pygments_lexer": "ipython3",
   "version": "3.11.4"
  }
 },
 "nbformat": 4,
 "nbformat_minor": 5
}
